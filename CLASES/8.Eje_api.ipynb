{
 "cells": [
  {
   "cell_type": "code",
   "execution_count": 3,
   "metadata": {},
   "outputs": [],
   "source": [
    "import requests\n",
    "import pandas as pd"
   ]
  },
  {
   "cell_type": "code",
   "execution_count": 5,
   "metadata": {},
   "outputs": [
    {
     "name": "stdout",
     "output_type": "stream",
     "text": [
      "Archivo CSV generado correctamente.\n"
     ]
    }
   ],
   "source": [
    "def infosw(idper):\n",
    "    url_api = \"https://swapi.dev/api/\"\n",
    "    url = f\"{url_api}people/{idper}/\"\n",
    "    respuesta = requests.get(url)\n",
    "\n",
    "    if respuesta.status_code == 200:\n",
    "        datos = respuesta.json()\n",
    "\n",
    "        return {\n",
    "            \"Código\": idper,\n",
    "            \"Nombre\": datos['name'],\n",
    "            \"Altura\": datos['height'],\n",
    "            \"Peso\": datos['mass'],\n",
    "            \"Color de cabello\": datos['hair_color'],\n",
    "            \"Color de piel\": datos['skin_color'],\n",
    "            \"Color de ojos\": datos['eye_color'],\n",
    "            \"Año de nacimiento\": datos['birth_year'],\n",
    "            \"Género\": datos['gender'],\n",
    "            \"Hogar\": datos['homeworld'],\n",
    "            \"Películas\": [requests.get(film_url).json()['title'] for film_url in datos['films']]\n",
    "        }\n",
    "\n",
    "    else:\n",
    "        print(f\"Error de comunicación {respuesta.status_code}\")\n",
    "        return None\n",
    "    \n",
    "url_all_people = \"https://swapi.dev/api/people/\"\n",
    "all_people_response = requests.get(url_all_people).json()\n",
    "\n",
    "data_list = []\n",
    "for person in all_people_response['results']:\n",
    "    person_id = person['url'].split('/')[-2]\n",
    "    person_data = infosw(person_id)\n",
    "\n",
    "    if person_data:\n",
    "        data_list.append(person_data)\n",
    "\n",
    "\n",
    "df = pd.DataFrame(data_list)\n",
    "\n",
    "df.to_csv('personas.csv', index=False, encoding='utf-8')\n",
    "\n",
    "print(\"Archivo CSV generado correctamente.\")"
   ]
  }
 ],
 "metadata": {
  "kernelspec": {
   "display_name": "Python 3",
   "language": "python",
   "name": "python3"
  },
  "language_info": {
   "codemirror_mode": {
    "name": "ipython",
    "version": 3
   },
   "file_extension": ".py",
   "mimetype": "text/x-python",
   "name": "python",
   "nbconvert_exporter": "python",
   "pygments_lexer": "ipython3",
   "version": "3.11.5"
  }
 },
 "nbformat": 4,
 "nbformat_minor": 2
}
