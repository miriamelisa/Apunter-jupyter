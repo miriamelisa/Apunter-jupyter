{
 "cells": [
  {
   "cell_type": "code",
   "execution_count": 8,
   "metadata": {},
   "outputs": [],
   "source": [
    "import requests\n",
    "from bs4 import BeautifulSoup\n",
    "import csv"
   ]
  },
  {
   "cell_type": "code",
   "execution_count": 9,
   "metadata": {},
   "outputs": [
    {
     "name": "stdout",
     "output_type": "stream",
     "text": [
      "Archivo CSV generado correctamente.\n"
     ]
    }
   ],
   "source": [
    "def infosw(idper):\n",
    "    url_api = \"https://swapi.dev/api/\"\n",
    "    url = f\"{url_api}people/{idper}/\"\n",
    "    respuesta = requests.get(url)\n",
    "\n",
    "    # 200 BIEN, 404 ERROR\n",
    "    if respuesta.status_code == 200:\n",
    "        datos = respuesta.json()\n",
    "\n",
    "        return {\n",
    "            \"Código\": idper,\n",
    "            \"Nombre\": datos['name'],\n",
    "            \"Altura\": datos['height'],\n",
    "            \"Peso\": datos['mass'],\n",
    "            \"Color de cabello\": datos['hair_color'],\n",
    "            \"Color de piel\": datos['skin_color'],\n",
    "            \"Color de ojos\": datos['eye_color'],\n",
    "            \"Año de nacimiento\": datos['birth_year'],\n",
    "            \"Género\": datos['gender'],\n",
    "            \"Hogar\": datos['homeworld'],\n",
    "            \"Películas\": [requests.get(film_url).json()['title'] for film_url in datos['films']]\n",
    "        }\n",
    "\n",
    "    else:\n",
    "        print(f\"Error de comunicación {respuesta.status_code}\")\n",
    "        return None\n",
    "\n",
    "# Obtener información sobre todas las personas\n",
    "url_all_people = \"https://swapi.dev/api/people/\"\n",
    "all_people_response = requests.get(url_all_people).json()\n",
    "\n",
    "# Crear y escribir en el archivo CSV\n",
    "with open('informacion_personas.csv', 'w', newline='', encoding='utf-8') as csvfile:\n",
    "    fieldnames = [\"Código\", \"Nombre\", \"Altura\", \"Peso\", \"Color de cabello\", \"Color de piel\", \"Color de ojos\",\n",
    "                  \"Año de nacimiento\", \"Género\", \"Hogar\", \"Películas\"]\n",
    "    writer = csv.DictWriter(csvfile, fieldnames=fieldnames)\n",
    "    writer.writeheader()\n",
    "\n",
    "    for person in all_people_response['results']:\n",
    "        person_id = person['url'].split('/')[-2]\n",
    "        person_data = infosw(person_id)\n",
    "        \n",
    "        if person_data:\n",
    "            writer.writerow(person_data)\n",
    "\n",
    "print(\"Archivo CSV generado correctamente.\")\n"
   ]
  }
 ],
 "metadata": {
  "kernelspec": {
   "display_name": "Python 3",
   "language": "python",
   "name": "python3"
  },
  "language_info": {
   "codemirror_mode": {
    "name": "ipython",
    "version": 3
   },
   "file_extension": ".py",
   "mimetype": "text/x-python",
   "name": "python",
   "nbconvert_exporter": "python",
   "pygments_lexer": "ipython3",
   "version": "3.11.5"
  }
 },
 "nbformat": 4,
 "nbformat_minor": 2
}
