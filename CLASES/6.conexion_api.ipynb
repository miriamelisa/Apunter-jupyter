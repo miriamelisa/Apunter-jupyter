{
 "cells": [
  {
   "cell_type": "code",
   "execution_count": 2,
   "metadata": {},
   "outputs": [],
   "source": [
    "import requests\n",
    "from bs4 import BeautifulSoup\n"
   ]
  },
  {
   "cell_type": "code",
   "execution_count": 17,
   "metadata": {},
   "outputs": [],
   "source": [
    "url_api=\"https://swapi.dev/api/\"\n",
    "def infosw(idper):\n",
    "    url=f\"{url_api}people/{idper}/\"\n",
    "    respuesta=requests.get(url)\n",
    "    ##200 BIEN\n",
    "    #404 ERRORs\n",
    "    if respuesta.status_code==200:\n",
    "        datos=respuesta.json()\n",
    "        #return datos\n",
    "        #print(datos)\n",
    "        print(f\"Código: {idper}\")\n",
    "        print(f\"Nombre: {datos['name']}\")\n",
    "        print(f\"Altura: {datos['height']}\")\n",
    "        print(f\"Peso: {datos['mass']}\")\n",
    "        print(f\"Color de cabello: {datos['hair_color']}\")\n",
    "        print(f\"Color de piel: {datos['skin_color']}\")\n",
    "        print(f\"Color de ojos: {datos['eye_color']}\")\n",
    "        print(f\"Año de nacimiento: {datos['birth_year']}\")\n",
    "        print(f\"Género: {datos['gender']}\")\n",
    "        print(f\"Hogar: {datos['homeworld']}\")\n",
    "        print(\"Películas:\")\n",
    "\n",
    "    else:\n",
    "        print(f\"Error de comunicacion{respuesta.status_code}\")\n",
    "        return None"
   ]
  },
  {
   "cell_type": "code",
   "execution_count": 18,
   "metadata": {},
   "outputs": [
    {
     "name": "stdout",
     "output_type": "stream",
     "text": [
      "Código: 2\n",
      "Nombre: C-3PO\n",
      "Altura: 167\n",
      "Peso: 75\n",
      "Color de cabello: n/a\n",
      "Color de piel: gold\n",
      "Color de ojos: yellow\n",
      "Año de nacimiento: 112BBY\n",
      "Género: n/a\n",
      "Hogar: https://swapi.dev/api/planets/1/\n",
      "Películas:\n"
     ]
    }
   ],
   "source": [
    "infosw(2)\n"
   ]
  }
 ],
 "metadata": {
  "kernelspec": {
   "display_name": "Python 3",
   "language": "python",
   "name": "python3"
  },
  "language_info": {
   "codemirror_mode": {
    "name": "ipython",
    "version": 3
   },
   "file_extension": ".py",
   "mimetype": "text/x-python",
   "name": "python",
   "nbconvert_exporter": "python",
   "pygments_lexer": "ipython3",
   "version": "3.11.5"
  }
 },
 "nbformat": 4,
 "nbformat_minor": 2
}
