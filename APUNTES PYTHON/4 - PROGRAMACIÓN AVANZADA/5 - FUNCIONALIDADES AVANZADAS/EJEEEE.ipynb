{
 "cells": [
  {
   "cell_type": "code",
   "execution_count": 2,
   "metadata": {},
   "outputs": [],
   "source": [
    "#Cremos el texto de la cabecera\n",
    "textoCabecera = \"NOMBRE\"+\" \"*15+\"APEL1\"+\" \"*15+\"APEL2\"+\" \"*15+\"TLF\"+\" \"*10+\"CIUDAD\\n\"\n",
    "linea = \"-\"*len(textoCabecera)\n",
    "textoCabecera +=linea\n",
    "#Creamos el objeto fichero\n",
    "fichero  = open(\"empleados.txt\",\"w\")\n",
    "fichero.write(textoCabecera)# v\n",
    "fichero.close()"
   ]
  },
  {
   "cell_type": "code",
   "execution_count": 6,
   "metadata": {},
   "outputs": [],
   "source": [
    "def nuevoEmpleado():\n",
    "    fichero  = open(\"empleados.txt\",\"a+\")\n",
    " \n",
    "    nombre = input(\"Nombre:\")\n",
    "    ape1 = input(\"Primer apellido:\")\n",
    "    ape2 = input(\"Segundo apellido:\")\n",
    "    tlf = input(\"Teléfono:\")\n",
    "    ciudad = input(\"Ciudad:\")\n",
    "    nuevoEmpleado = \"\\n\"+nombre+\" \"*(21-len(nombre))+ape1+\" \"*(20-len(ape1))+ape2+\" \"*(20-len(ape2))+tlf+\" \"*(13-len(tlf))+ciudad+\" \"*(15-len(ciudad))\n",
    "    fichero.write(nuevoEmpleado)\n",
    "    fichero.close()"
   ]
  },
  {
   "cell_type": "code",
   "execution_count": 7,
   "metadata": {},
   "outputs": [],
   "source": [
    "#Funcion para leer\n",
    "def leerEmpleados(listaEmpleados=\"empleados.txt\"):\n",
    "    fichero  = open(listaEmpleados,\"r\") #Creamos el constructor,  la R es de read\n",
    "    lectura = fichero.read() #Saca todo el contenido\n",
    "    fichero.close()\n",
    "    print(lectura)"
   ]
  },
  {
   "cell_type": "code",
   "execution_count": null,
   "metadata": {},
   "outputs": [],
   "source": [
    "nuevoEmpleado()"
   ]
  },
  {
   "cell_type": "code",
   "execution_count": null,
   "metadata": {},
   "outputs": [],
   "source": [
    "leerEmpleados()"
   ]
  },
  {
   "cell_type": "code",
   "execution_count": 19,
   "metadata": {},
   "outputs": [],
   "source": [
    "def invertir(cadena):\n",
    "  palabras = cadena.split()\n",
    "  return \" \".join([p[::-1] for p in palabras])"
   ]
  },
  {
   "cell_type": "code",
   "execution_count": 18,
   "metadata": {},
   "outputs": [
    {
     "data": {
      "text/plain": [
       "'ROMA ES UNA CIUDAD DEL IMPERIO ROMANO'"
      ]
     },
     "execution_count": 18,
     "metadata": {},
     "output_type": "execute_result"
    }
   ],
   "source": [
    "invertir(\"AMOR SE ANU DADUIC LED OIREPMI ONAMOR\")"
   ]
  },
  {
   "cell_type": "code",
   "execution_count": 43,
   "metadata": {},
   "outputs": [
    {
     "name": "stdout",
     "output_type": "stream",
     "text": [
      "{'1122': 'pepe@pepon.es', '2212': 'anita10pd@ventas.com', '5574': 'gus221@comercial.es'}\n"
     ]
    }
   ],
   "source": [
    "import re\n",
    "\n",
    "texto = \"PEDRO 1122 AT2 pepe@pepon.es, ANA 2212 TT3 anita10pd@ventas.com, GUSTAVO ctr 5574 gus221@comercial.es\"\n",
    "r_codigo = \"\\d{4}\"\n",
    "codigos = re.findall(r_codigo, texto)\n",
    "r_correo = \"[a-zA-Z0-9\\._%+-]+@[a-zA-Z0-9\\.-]+\\.[a-zA-Z]{2,6}\"\n",
    "correos = re.findall(r_correo, texto)\n",
    "dic = dict(zip(codigos, correos))\n",
    "print(dic)"
   ]
  },
  {
   "cell_type": "code",
   "execution_count": 48,
   "metadata": {},
   "outputs": [
    {
     "name": "stdout",
     "output_type": "stream",
     "text": [
      "['ZARCO', 'VISITACIÓN', 'MARCO', 'LUIS', 'ALBERTO', 'ANDREA', 'ANA', 'APOLONIA', 'ANDRES']\n"
     ]
    }
   ],
   "source": [
    "lista = [\"ZARCO\", \"VISITACIÓN\", \"ANDRES\", \"LUIS\", \"ZARCO\", \"LUIS\", \"ALBERTO\", \"ANA\", \"ANDRES\", \"MARCO\", \"APOLONIA\", \"MARCO\", \"ANDREA\"]\n",
    "conjunto = set(lista)\n",
    "lista_final = list(conjunto)\n",
    "print(lista_final)"
   ]
  },
  {
   "cell_type": "code",
   "execution_count": 51,
   "metadata": {},
   "outputs": [
    {
     "name": "stdout",
     "output_type": "stream",
     "text": [
      "[100, 45, 63, 70, 400, 30, 15]\n"
     ]
    }
   ],
   "source": [
    "lista = [100,-50,-3,45,63,-180,70,-5,400,-75,-22,30,15,-1]\n",
    "print(list(filter(lambda numero: numero >= 0, lista)))"
   ]
  },
  {
   "cell_type": "code",
   "execution_count": 61,
   "metadata": {},
   "outputs": [
    {
     "name": "stdout",
     "output_type": "stream",
     "text": [
      "Mi nombre es MIRI\n",
      "La instancia de Empleado con el nombre MIRI ha sido eliminada\n"
     ]
    }
   ],
   "source": [
    "class Empleado:\n",
    "    def __init__(self, nombre):\n",
    "        self.nombre = nombre\n",
    "    def __str__(self):\n",
    "        return f\"Mi nombre es {self.nombre}\"\n",
    "    def __len__(self):\n",
    "        return len(self.nombre)\n",
    "    def __del__(self):\n",
    "        print(\"La instancia de Empleado con el nombre\", self.nombre, \"ha sido eliminada\")\n",
    "\n",
    "e1 = Empleado(\"MIRI\")\n",
    "type(e1)\n",
    "print(e1)\n"
   ]
  }
 ],
 "metadata": {
  "kernelspec": {
   "display_name": "Python 3",
   "language": "python",
   "name": "python3"
  },
  "language_info": {
   "codemirror_mode": {
    "name": "ipython",
    "version": 3
   },
   "file_extension": ".py",
   "mimetype": "text/x-python",
   "name": "python",
   "nbconvert_exporter": "python",
   "pygments_lexer": "ipython3",
   "version": "3.11.5"
  }
 },
 "nbformat": 4,
 "nbformat_minor": 2
}
