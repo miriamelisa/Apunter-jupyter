{
 "cells": [
  {
   "cell_type": "code",
   "execution_count": 3,
   "metadata": {},
   "outputs": [
    {
     "ename": "ModuleNotFoundError",
     "evalue": "No module named 'requests'",
     "output_type": "error",
     "traceback": [
      "\u001b[1;31m---------------------------------------------------------------------------\u001b[0m",
      "\u001b[1;31mModuleNotFoundError\u001b[0m                       Traceback (most recent call last)",
      "\u001b[1;32md:\\APUNTES PYTHON\\5-SOUP_REQUESTS\\requests.ipynb Celda 1\u001b[0m line \u001b[0;36m1\n\u001b[1;32m----> <a href='vscode-notebook-cell:/d%3A/APUNTES%20PYTHON/5-SOUP_REQUESTS/requests.ipynb#W0sZmlsZQ%3D%3D?line=0'>1</a>\u001b[0m \u001b[39mimport\u001b[39;00m \u001b[39mrequests\u001b[39;00m\n\u001b[0;32m      <a href='vscode-notebook-cell:/d%3A/APUNTES%20PYTHON/5-SOUP_REQUESTS/requests.ipynb#W0sZmlsZQ%3D%3D?line=1'>2</a>\u001b[0m \u001b[39mfrom\u001b[39;00m \u001b[39mbs4\u001b[39;00m \u001b[39mimport\u001b[39;00m BeautifulSoup\n\u001b[0;32m      <a href='vscode-notebook-cell:/d%3A/APUNTES%20PYTHON/5-SOUP_REQUESTS/requests.ipynb#W0sZmlsZQ%3D%3D?line=3'>4</a>\u001b[0m \u001b[39m#ESTO ES UN RASPADO\u001b[39;00m\n",
      "\u001b[1;31mModuleNotFoundError\u001b[0m: No module named 'requests'"
     ]
    }
   ],
   "source": [
    "import requests\n",
    "from bs4 import BeautifulSoup\n",
    "\n",
    "#ESTO ES UN RASPADO\n",
    "url=\"https://es.wikipedia.org/wiki/Mecanismo_de_Anticitera\"\n",
    "contenido=requests.get(url)\n",
    "soup=BeautifulSoup(contenido.text,\"html.parser\")\n",
    "#\"haces la sopa\" conbiertelo a texto plano tipo html()\n",
    "#soup-sopa=conte nido de una pagina web \n",
    "#quiero sacar las etiquetas h1\n",
    "etih1=soup.find_all(\"h1\") #de toda la sopa quiero encontrar H1\n",
    "#BUCLE: LLEE LOS TITULOS Y LOS METE EN UNA VARIABLE LLAMDA TITULOS\n",
    "titulos=[h1.get_text() for h1 in etih1]\n",
    "#para VER LOS titulos\n",
    "for titulo in titulos:\n",
    "    print(\"Titulos: \",titulo)\n"
   ]
  },
  {
   "cell_type": "code",
   "execution_count": null,
   "metadata": {},
   "outputs": [],
   "source": []
  }
 ],
 "metadata": {
  "kernelspec": {
   "display_name": "Python 3",
   "language": "python",
   "name": "python3"
  },
  "language_info": {
   "codemirror_mode": {
    "name": "ipython",
    "version": 3
   },
   "file_extension": ".py",
   "mimetype": "text/x-python",
   "name": "python",
   "nbconvert_exporter": "python",
   "pygments_lexer": "ipython3",
   "version": "3.11.5"
  }
 },
 "nbformat": 4,
 "nbformat_minor": 2
}
