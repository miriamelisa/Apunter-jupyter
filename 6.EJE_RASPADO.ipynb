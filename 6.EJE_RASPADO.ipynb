{
 "cells": [
  {
   "cell_type": "code",
   "execution_count": 1,
   "id": "848a578b",
   "metadata": {},
   "outputs": [],
   "source": [
    "import requests\n",
    "from bs4 import BeautifulSoup"
   ]
  },
  {
   "cell_type": "code",
   "execution_count": 4,
   "id": "7abb833f",
   "metadata": {},
   "outputs": [
    {
     "name": "stdout",
     "output_type": "stream",
     "text": [
      "Parrafos:  Un armario, escaparate (en Venezuela y Cuba[1]​[2]​), clóset (en Hispanoamérica[3]​), aparador (en Filipinas[4]​), ropero, placar o placard (en Río de la Plata[5]​), es un mueble cerrado por medio de puertas, en cuya distribución interior puede haber estantes, colgadores para perchas y cajones, ideado para guardar cosas. Las puertas pueden ser batientes o correderas, utilizándose las segundas en lugares de paso estrecho, ya que necesitan menos espacio.\n",
      "\n",
      "Parrafos:  El armario es propio de cualquier estancia de la casa, adecuando su forma y dimensiones al uso al que va destinado:\n",
      "\n",
      "Parrafos:  El armario empotrado es el que tiene visible únicamente la parte frontal, estando el resto unido por obra a las paredes o tabiques de la estancia en que se ubica. En el Río de la Plata se lo conoce como placard o placar. Los espacios habilitados como vestidores suelen estar revestidos de armarios sin puertas.\n",
      "\n",
      "Parrafos:  La palabra procede del latín armarĭum, lugar donde se guardan artefactos o armas. A su vez, arma (colectivo plural) procede de ars, arte u oficio, y denomina cualquier conjunto de objetos resultado de un arte u oficio. La evolución posterior de la palabra arma puede llevar a confusión.\n",
      "\n",
      "Parrafos:  El armario es conocido al menos desde la época romana, según aparece en las pinturas de Herculano. Aunque en un principio sólo servía para contener armas, según indica su nombre, pronto se utilizó para guardar todo tipo de objetos.[6]​\n",
      "\n",
      "Parrafos:  Los romanos destinaban este mueble para encerrar los retratos de sus antepasados y los libros. Los primeros, como estaban hechos de cera, tenían que estar encerrados para que con el aire y el polvo no se echasen a perder. Estos armarios no se abrían más que los días festivos y en algún acontecimiento célebre. Los que habían sido acusados de algún delito, abrían también los armarios que contenían aquellos estimados retratos cuando se había justificado su inocencia. Cicerón, perorando por Sila, lo dice claramente. Las bibliotecas de los romanos estaban compuestas de armarios, en los que se ponían los volúmenes o rollos y se distinguían con diversos números.[7]​\n",
      "\n",
      "Parrafos:  En la Edad Media, con excepción de las iglesias y monasterios, servía sólo para encerrar las armas y armaduras, pues los demás objetos se guardaban en arcas o en sencillos aparadores. Pero ya desde principios del siglo XV se usaba el armario con el mismo fin que ahora y sus puertas se decoraban con relieves cuando antes sólo llevaban pinturas. Durante los siglos XVI y XVII se empleaban elegantes armarios de dos cuerpos y desde el siglo XVIII se construyen armarios-vitrina y bibliotecas-vitrina como dignos muebles de salón y de gabinete.[6]​\n",
      "\n",
      "Parrafos:  Los armarios constan generalmente de seis partes principales: dos puertas, dos costados, el respaldo, la cornisa y dos fondos, alto y bajo. Lo interior está guarnecido de cajas o estantes y a veces está libre. Todas las piezas de un armario deben ensamblarse a espiga y mortaja sin encolarlas, pero atornilladas de modo que puedan desmontarse, porque un armario tiene que armarse y desarmarse a voluntad para hacerlo trasportable. Generalmente los costados del armario consisten en un bastidor con paneles que hace el oficio de montante y al cual se ensamblan por abajo y por arriba los barrotes que constituyen la armazón del suelo y del alto. Las puertas se abisagran sobre el marco de los bastidores laterales. El respaldo se compone de tablillas delgadas encajadas a ranura lateralmente y la cornisa consta de piezas sueltas que se atornillan en lo alto y se ensamblan en los ángulos a inglete sin prolongar el saledizo por detrás para que el armario pueda apoyarse en la pared.[8]​\n",
      "\n",
      "Parrafos:  Aparecido a principios del siglo XX con los estilos de 1925, el armario con espejo es similar a otros muebels con espejo, en forma de armario con un espejo adosado al interior de una de las puertas. Algunos armarios denominados \"man-stands\" tenían un espejo adosado al exterior de la única puerta que, al abrirse, volcaba un mueble no cargado de ropa blanca; un gancho colocado en la parte posterior permitía fijar el armario a la pared. Hoy en día, la ligereza de los espejos modernos, posibilitada por su delgadez, permite fijarlos en cada puerta.\n",
      "\n",
      "Parrafos:  Otra forma de armario es el armario de hielo que consistía en un cofre de madera muy grueso, uno de cuyos compartimentos contenía bloques de hielo que se utilizaban para mantener los alimentos frescos. En Francia, este tipo de armario se podía ver todavía en las tiendas de alimentación (carnicerías, queserías, pescaderías, etc.) hasta principios de los años cincuenta del siglo XX.\n",
      "\n",
      "Parrafos:  Armario del siglo XVIII, cama cerrada y banco de la casa Cornec en Saint-Rivoal en Finistère\n",
      "\n",
      "Parrafos:  Armario art decó fabricado en Francia en los años 30.\n",
      "\n",
      "Parrafos:  Almacenamiento de ropa en un armario.\n",
      "\n",
      "Parrafos:  Reproducción de un armario del siglo XVIII.\n",
      "\n",
      "Parrafos:  Réplica de un armario de época (armario Chantilly), estilo Luis XV.\n",
      "\n",
      "Parrafos:  Armario \"Directoire\" réplica de un modelo antiguo, de estilo directoire.\n",
      "\n",
      "Parrafos:  Armario de dos cuerpos con divinidades - Segunda mitad del siglo XVI.\n",
      "\n",
      "Parrafos:  Armario de dos cuerpos - segundo tercio del siglo XVI.\n",
      "\n",
      "Parrafos:  Armario con loros realizado por Boulle hacia 1680/1690-1700 (Museo de Louvre).\n",
      "\n",
      "Parrafos:  \"Armoire d'Aubazine\" con cerraduras y bisagras de hierro forjado, el \"armoire litúrgico\" (Conditiora) más antiguo de Francia (probablemente de principios del siglo XIII.\n",
      "\n",
      "Parrafos:  Armario datado en el siglo XIV, hoy utilizado en la casa de la iglesia Sainte-Marie de Corneilla-de-Conflent.\n",
      "\n",
      "Parrafos:  Armario de principios del  siglo XVII de la cartuja de Villeneuve-lès-Avignon, en la actualidad en el Musée Pierre-de-Luxembourg en Villeneuve-lès-Avignon.\n",
      "\n",
      "Parrafos:  Armario realizado por André-Charles Boulle. Musée du Louvre\n",
      "\n",
      "Parrafos:  Armario, encargado para el Salón de Conciertos del Palacio de las Tullerías. Ébano, carey rojo y latón, 1834. Georges-Alphonse Jacob-Desmalter.  Museo del Louvre.\n",
      "\n"
     ]
    }
   ],
   "source": [
    "url=\"https://es.wikipedia.org/wiki/Armario\"\n",
    "contenido=requests.get(url)\n",
    "soup=BeautifulSoup(contenido.text,\"html.parser\")\n",
    "#\"haces la sopa\" conbiertelo a texto plano tipo html()\n",
    "#soup-sopa=conte nido de una pagina web \n",
    "#quiero sacar las etiquetas p\n",
    "ps=soup.find_all(\"p\") #de toda la sopa quiero encontrar P\n",
    "#BUCLE: LLEE LOS PARRAFOS Y LOS METE EN UNA VARIABLE LLAMDA PARRAFOS\n",
    "parrafos=[p.get_text() for p in ps]\n",
    "#para VER LOS titulos\n",
    "for parrafo in parrafos:\n",
    "    print(\"Parrafos: \",parrafo)"
   ]
  },
  {
   "cell_type": "code",
   "execution_count": null,
   "id": "b7ea1511",
   "metadata": {},
   "outputs": [],
   "source": []
  }
 ],
 "metadata": {
  "kernelspec": {
   "display_name": "Python 3 (ipykernel)",
   "language": "python",
   "name": "python3"
  },
  "language_info": {
   "codemirror_mode": {
    "name": "ipython",
    "version": 3
   },
   "file_extension": ".py",
   "mimetype": "text/x-python",
   "name": "python",
   "nbconvert_exporter": "python",
   "pygments_lexer": "ipython3",
   "version": "3.11.5"
  }
 },
 "nbformat": 4,
 "nbformat_minor": 5
}
